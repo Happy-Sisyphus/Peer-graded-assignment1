{
 "cells": [
  {
   "cell_type": "markdown",
   "id": "bdc4a5a8-a0ff-4d8b-8e80-f80a4c8657bd",
   "metadata": {},
   "source": [
    "# Data Science Tools and Ecosystem"
   ]
  },
  {
   "cell_type": "markdown",
   "id": "1d654b07-9b48-46ee-99b8-984134d448ee",
   "metadata": {},
   "source": [
    "In this notebook, Data Science Tools and Ecosystem are summarized."
   ]
  },
  {
   "cell_type": "markdown",
   "id": "99f97430-ea30-474d-861d-60b904e1d85f",
   "metadata": {},
   "source": [
    "**Objectives:**\n",
    "- Listing popular Data Science Languages.\n",
    "- Listing Data Science Libraries.\n",
    "- Table of Data Science Tools.\n",
    "- Arithmetic addition and multiplication.\n",
    "- Arithmetic Division operation."
   ]
  },
  {
   "cell_type": "markdown",
   "id": "0ef645ef-6558-4106-adc0-d94370dc3d7b",
   "metadata": {},
   "source": [
    "##### Some of the popular languages that Data Scientists use are:\n",
    "1. Python\n",
    "2. R programming language\n",
    "3. Java"
   ]
  },
  {
   "cell_type": "markdown",
   "id": "fdbd3b81-0cd7-426c-ad57-f1178ad98130",
   "metadata": {},
   "source": [
    "##### Some of the commonly used libraries used by data scientists include:\n",
    "1. Pandas\n",
    "2. Numpy\n",
    "3. Scikit-learn\n",
    "4. PyTorch\n",
    "5. Keras\n",
    "6. TensorFlow\n",
    "7. Matplotlib"
   ]
  },
  {
   "cell_type": "markdown",
   "id": "26545f2d-1747-4ccc-9de2-49a4f41fea83",
   "metadata": {},
   "source": [
    "| Data Science Tools |\n",
    "|---|\n",
    "| Rstudio |\n",
    "| JupyterLab |\n",
    "| VisualStudio Code |"
   ]
  },
  {
   "cell_type": "markdown",
   "id": "fdc2e0e9-a054-42da-b58d-136fbdcbb682",
   "metadata": {},
   "source": [
    "### Below are a few examples of evaluating arithmetic expressions in Python."
   ]
  },
  {
   "cell_type": "code",
   "execution_count": 15,
   "id": "8867e9b7-be0c-4528-9d7f-99fafa347a91",
   "metadata": {},
   "outputs": [
    {
     "data": {
      "text/plain": [
       "17"
      ]
     },
     "execution_count": 15,
     "metadata": {},
     "output_type": "execute_result"
    }
   ],
   "source": [
    "# This a simple arithmetic expression to mutiply then add integers.\n",
    "\n",
    "(3*4)+5"
   ]
  },
  {
   "cell_type": "code",
   "execution_count": 21,
   "id": "800e5cff-db44-40a9-9673-58f13b9dc7fd",
   "metadata": {},
   "outputs": [
    {
     "data": {
      "text/plain": [
       "3.3333333333333335"
      ]
     },
     "execution_count": 21,
     "metadata": {},
     "output_type": "execute_result"
    }
   ],
   "source": [
    "# This will convert 200 minutes to hours by diving by 60.\n",
    "\n",
    "200/60"
   ]
  },
  {
   "cell_type": "markdown",
   "id": "78b906cb-d3fd-43a0-894e-d53e694c31d9",
   "metadata": {},
   "source": [
    "## Author\n",
    "~ Dhiraj Choudhary"
   ]
  },
  {
   "cell_type": "code",
   "execution_count": null,
   "id": "4b60d931-73b0-4ff9-aa29-b47ca838e211",
   "metadata": {},
   "outputs": [],
   "source": []
  }
 ],
 "metadata": {
  "kernelspec": {
   "display_name": "Python [conda env:base] *",
   "language": "python",
   "name": "conda-base-py"
  },
  "language_info": {
   "codemirror_mode": {
    "name": "ipython",
    "version": 3
   },
   "file_extension": ".py",
   "mimetype": "text/x-python",
   "name": "python",
   "nbconvert_exporter": "python",
   "pygments_lexer": "ipython3",
   "version": "3.12.7"
  }
 },
 "nbformat": 4,
 "nbformat_minor": 5
}
